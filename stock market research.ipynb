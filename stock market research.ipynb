{
 "cells": [
  {
   "cell_type": "code",
   "execution_count": 211,
   "metadata": {},
   "outputs": [
    {
     "name": "stdout",
     "output_type": "stream",
     "text": [
      "[0, 0]\n",
      "[4, 5]\n",
      "[5, 5]\n",
      "[0, 0]\n"
     ]
    }
   ],
   "source": [
    "#market points detection\n",
    "\n",
    "\n",
    "\n",
    "l1 = [5,4,3,2,1,2,3,4,5,6]\n",
    "#return (5, 1, 1)\n",
    "#find extreme points\n",
    "def no_neighbors_larger(l, index):\n",
    "    i, j = index, index\n",
    "    left = right = 0\n",
    "    while l[i-1] > l[i] and i >= 1:\n",
    "        i -= 1\n",
    "\n",
    "    while l[j] < l[j+1] and j <= len(l)-2:\n",
    "        j += 1\n",
    "        if j == len(l) -1:\n",
    "            break\n",
    "        \n",
    "    return [index - i, j-index]\n",
    "print(no_neighbors_smaller(l1, 4))   \n",
    "print(no_neighbors_larger(l1, 4))\n",
    "\n",
    "l2 = [1,2,3,4,5,6,5,4,3,2,1]        \n",
    "def no_neighbors_smaller(l, index):\n",
    "    i, j = index, index\n",
    "    while l[i-1] < l[i] and i >= 1:\n",
    "        i -= 1\n",
    "\n",
    "    while l[j] > l[j+1] and j <= len(l)-2:\n",
    "        j += 1\n",
    "        if j ==len(l) -1:\n",
    "            break\n",
    "    return [index-i, j-index]\n",
    "\n",
    "print(no_neighbors_smaller(l2, 5))\n",
    "print(no_neighbors_larger(l2, 5))\n",
    "#def Extreme_Points(l):\n",
    "    "
   ]
  },
  {
   "cell_type": "code",
   "execution_count": 216,
   "metadata": {},
   "outputs": [
    {
     "name": "stdout",
     "output_type": "stream",
     "text": [
      "[(True, 2, 2585.889893)] [(True, 1, 2710.050049)]\n"
     ]
    }
   ],
   "source": [
    "def is_extreme_large(l, index):\n",
    "    return (no_neighbors_smaller(l, index)[0]>0 and no_neighbors_smaller(l, index)[1]>0)\n",
    "\n",
    "\n",
    "def is_extreme_small(l, index):\n",
    "    return (no_neighbors_larger(l, index)[0]>0 and no_neighbors_larger(l, index)[1]>0)\n",
    "\n",
    "def all_large_extremes(l):\n",
    "    return ([(is_extreme_large(l, i),i,l[i]) for i in range(1, len(l)-1)])\n",
    "def true_large_extremes(l, days):\n",
    "    return [item for item in all_large_extremes(list(df['Low'])[-days:]) if item [0] == True]\n",
    "def all_small_extremes(l):\n",
    "    return ([(is_extreme_small(l, i),i,l[i]) for i in range(1, len(l)-1)])\n",
    "def true_small_extremes(l, days):\n",
    "    return [item for item in all_small_extremes(list(df['Low'])[-days:]) if item [0] == True]\n",
    "    \n",
    "print(true_small_extremes(l1,5),true_large_extremes(l2,7))"
   ]
  },
  {
   "cell_type": "code",
   "execution_count": 142,
   "metadata": {},
   "outputs": [
    {
     "data": {
      "text/plain": [
       "0    2329.110107\n",
       "1    2339.790039\n",
       "2    2356.540039\n",
       "3    2361.310059\n",
       "4    2364.820068\n",
       "5    2362.340088\n",
       "Name: Open, dtype: float64"
      ]
     },
     "execution_count": 142,
     "metadata": {},
     "output_type": "execute_result"
    }
   ],
   "source": [
    "import pandas as pd\n",
    "df = pd.read_csv('SPX_ONEYEAR.csv')\n",
    "df['Open'].head(6)"
   ]
  },
  {
   "cell_type": "code",
   "execution_count": 204,
   "metadata": {},
   "outputs": [
    {
     "ename": "AttributeError",
     "evalue": "'list' object has no attribute 'head'",
     "output_type": "error",
     "traceback": [
      "\u001b[1;31m---------------------------------------------------------------------------\u001b[0m",
      "\u001b[1;31mAttributeError\u001b[0m                            Traceback (most recent call last)",
      "\u001b[1;32m<ipython-input-204-b706e1cf8593>\u001b[0m in \u001b[0;36m<module>\u001b[1;34m()\u001b[0m\n\u001b[1;32m----> 1\u001b[1;33m \u001b[0mall_small_extremes\u001b[0m\u001b[1;33m(\u001b[0m\u001b[0mlist\u001b[0m\u001b[1;33m(\u001b[0m\u001b[0mdf\u001b[0m\u001b[1;33m[\u001b[0m\u001b[1;34m'Open'\u001b[0m\u001b[1;33m]\u001b[0m\u001b[1;33m)\u001b[0m\u001b[1;33m)\u001b[0m\u001b[1;33m.\u001b[0m\u001b[0mhead\u001b[0m\u001b[1;33m(\u001b[0m\u001b[1;33m)\u001b[0m\u001b[1;33m\u001b[0m\u001b[0m\n\u001b[0m\u001b[0;32m      2\u001b[0m \u001b[0mall_large_extremes\u001b[0m\u001b[1;33m(\u001b[0m\u001b[0mlist\u001b[0m\u001b[1;33m(\u001b[0m\u001b[0mdf\u001b[0m\u001b[1;33m[\u001b[0m\u001b[1;34m'Open'\u001b[0m\u001b[1;33m]\u001b[0m\u001b[1;33m)\u001b[0m\u001b[1;33m)\u001b[0m\u001b[1;33m.\u001b[0m\u001b[0mhead\u001b[0m\u001b[1;33m(\u001b[0m\u001b[1;33m)\u001b[0m\u001b[1;33m\u001b[0m\u001b[0m\n",
      "\u001b[1;31mAttributeError\u001b[0m: 'list' object has no attribute 'head'"
     ]
    }
   ],
   "source": [
    "all_small_extremes(list(df['Open'])).head()\n",
    "all_large_extremes(list(df['Open'])).head()"
   ]
  },
  {
   "cell_type": "code",
   "execution_count": null,
   "metadata": {},
   "outputs": [],
   "source": []
  },
  {
   "cell_type": "code",
   "execution_count": 132,
   "metadata": {},
   "outputs": [],
   "source": [
    "from pandas import DataFrame, Series\n",
    "import pandas as pd; import numpy as np\n",
    "import matplotlib.pyplot as plt\n",
    "from matplotlib import dates as mdates\n",
    "from matplotlib import ticker as mticker\n",
    "from matplotlib.finance import candlestick_ohlc\n",
    "from matplotlib.dates import DateFormatter, WeekdayLocator, DayLocator, MONDAY,YEARLY\n",
    "from matplotlib.dates import MonthLocator,MONTHLY\n",
    "import datetime as dt\n",
    "import pylab\n",
    "\n",
    "\n",
    "MA1 = 10\n",
    "MA2 = 50\n",
    "startdate = dt.date(2017, 3, 29)\n",
    "enddate = dt.date(2018, 3, 25)\n",
    "\n",
    "\n",
    "\n",
    "def readstkData(rootpath, stockcode, sday, eday):\n",
    "    \n",
    "    returndata = pd.DataFrame()\n",
    "    for yearnum in range(0,int((eday - sday).days / 365.25)+1):\n",
    "        theyear = sday + dt.timedelta(days = yearnum * 365)\n",
    "        # build file name\n",
    "        filename = rootpath  + theyear.strftime('%Y') + '\\\\' + str(stockcode).zfill(6) + '.csv'\n",
    "        \n",
    "        try:\n",
    "            rawdata = pd.read_csv('SPX_ONEYEAR.csv', parse_dates = True, index_col = 0, encoding = 'gbk')\n",
    "        except IOError:\n",
    "           raise Exception('IoError when reading dayline data file: ' + 'SPX_ONEYEAR.csv')\n",
    "\n",
    "        returndata = pd.concat([rawdata, returndata])\n",
    "    \n",
    "    # Wash data\n",
    "    returndata = returndata.sort_index()\n",
    "    returndata.index.name = 'Date'\n",
    "    returndata.columns = ['Open', 'High', 'Low', 'Close','Adjust Close' ,'Volume']\n",
    "\n",
    "    returndata = returndata[returndata.index < eday.strftime('%Y-%m-%d')]\n",
    "\n",
    "    return returndata\n",
    "\n"
   ]
  },
  {
   "cell_type": "code",
   "execution_count": 159,
   "metadata": {},
   "outputs": [
    {
     "data": {
      "text/plain": [
       "[2, 3, 4]"
      ]
     },
     "execution_count": 159,
     "metadata": {},
     "output_type": "execute_result"
    }
   ],
   "source": [
    "list(map(lambda x: x+1, [1,2,3]))"
   ]
  },
  {
   "cell_type": "code",
   "execution_count": 160,
   "metadata": {},
   "outputs": [
    {
     "name": "stdout",
     "output_type": "stream",
     "text": [
      "        Date         Open         High          Low        Close    Adj Close  \\\n",
      "0  3/27/2017  2329.110107  2344.899902  2322.250000  2341.590088  2341.590088   \n",
      "1  3/28/2017  2339.790039  2363.780029  2337.629883  2358.570068  2358.570068   \n",
      "2  3/29/2017  2356.540039  2363.360107  2352.939941  2361.129883  2361.129883   \n",
      "3  3/30/2017  2361.310059  2370.419922  2358.580078  2368.060059  2368.060059   \n",
      "4  3/31/2017  2364.820068  2370.350098  2362.600098  2362.719971  2362.719971   \n",
      "\n",
      "       Volume  \n",
      "0  3240230000  \n",
      "1  3367780000  \n",
      "2  3106940000  \n",
      "3  3158420000  \n",
      "4  3354110000  \n",
      "       Date         Open         High          Low        Close    Adj Close  \\\n",
      "0  20170327  2329.110107  2344.899902  2322.250000  2341.590088  2341.590088   \n",
      "1  20170328  2339.790039  2363.780029  2337.629883  2358.570068  2358.570068   \n",
      "2  20170329  2356.540039  2363.360107  2352.939941  2361.129883  2361.129883   \n",
      "3  20170330  2361.310059  2370.419922  2358.580078  2368.060059  2368.060059   \n",
      "4  20170331  2364.820068  2370.350098  2362.600098  2362.719971  2362.719971   \n",
      "\n",
      "       Volume  \n",
      "0  3240230000  \n",
      "1  3367780000  \n",
      "2  3106940000  \n",
      "3  3158420000  \n",
      "4  3354110000  \n"
     ]
    }
   ],
   "source": [
    "import pandas as pd\n",
    "df = pd.read_csv('SPX_ONEYEAR.csv')\n",
    "print(df.head(5))\n",
    "format_str = '%m/%d/%Y' # The format\n",
    "df['Date'] = list(map(lambda x: datetime.datetime.strptime(x, format_str).strftime(\"%Y%m%d\"), df['Date'])\n",
    "print(df.head(5))"
   ]
  },
  {
   "cell_type": "code",
   "execution_count": 190,
   "metadata": {},
   "outputs": [
    {
     "name": "stdout",
     "output_type": "stream",
     "text": [
      "        Date         Open         High          Low        Close    Adj Close  \\\n",
      "0  3/27/2017  2329.110107  2344.899902  2322.250000  2341.590088  2341.590088   \n",
      "1  3/28/2017  2339.790039  2363.780029  2337.629883  2358.570068  2358.570068   \n",
      "2  3/29/2017  2356.540039  2363.360107  2352.939941  2361.129883  2361.129883   \n",
      "3  3/30/2017  2361.310059  2370.419922  2358.580078  2368.060059  2368.060059   \n",
      "4  3/31/2017  2364.820068  2370.350098  2362.600098  2362.719971  2362.719971   \n",
      "\n",
      "       Volume  \n",
      "0  3240230000  \n",
      "1  3367780000  \n",
      "2  3106940000  \n",
      "3  3158420000  \n",
      "4  3354110000  \n",
      "       Date         Open         High          Low        Close    Adj Close  \\\n",
      "0  736415.0  2329.110107  2344.899902  2322.250000  2341.590088  2341.590088   \n",
      "1  736416.0  2339.790039  2363.780029  2337.629883  2358.570068  2358.570068   \n",
      "2  736417.0  2356.540039  2363.360107  2352.939941  2361.129883  2361.129883   \n",
      "3  736418.0  2361.310059  2370.419922  2358.580078  2368.060059  2368.060059   \n",
      "4  736419.0  2364.820068  2370.350098  2362.600098  2362.719971  2362.719971   \n",
      "\n",
      "       Volume  \n",
      "0  3240230000  \n",
      "1  3367780000  \n",
      "2  3106940000  \n",
      "3  3158420000  \n",
      "4  3354110000  \n"
     ]
    },
    {
     "data": {
      "text/plain": [
       "<matplotlib.legend.Legend at 0x1defed012b0>"
      ]
     },
     "execution_count": 190,
     "metadata": {},
     "output_type": "execute_result"
    },
    {
     "data": {
      "image/png": "[encoded data removed]",
      "text/plain": [
       "<matplotlib.figure.Figure at 0x1defecc1a90>"
      ]
     },
     "metadata": {},
     "output_type": "display_data"
    }
   ],
   "source": [
    "import pandas as pd\n",
    "import numpy as np\n",
    "import matplotlib.pyplot as plt\n",
    "import matplotlib.ticker as mticker\n",
    "from matplotlib.finance import candlestick_ohlc\n",
    "import matplotlib.dates as dates\n",
    "import datetime as dt\n",
    "\n",
    "df = pd.read_csv('SPX_ONEYEAR.csv')\n",
    "print(df.head(5))\n",
    "#df = df.reset_index()\n",
    "df.head(5)\n",
    "dfcolumns = ['Date','Open', 'High', 'Low', 'Close','Volume']\n",
    "format_str = '%m/%d/%Y' # The format\n",
    "df['Date'] = df['Date'].map(mdates.datestr2num)\n",
    "print(df.head(5))\n",
    "fig = plt.figure()\n",
    "ax1 = plt.subplot2grid((3,1), (0,0), rowspan=10, colspan=1)\n",
    "plt.xlabel(\"Date\")\n",
    "candlestick_ohlc(ax1,df.values,width=1, colorup='g', colordown='r',alpha=1)\n",
    "plt.ylabel(\"Price\")\n",
    "plt.legend('')"
   ]
  },
  {
   "cell_type": "code",
   "execution_count": 184,
   "metadata": {},
   "outputs": [],
   "source": [
    "mdates.datestr2num('03/03/2017')\n",
    "?mdates.datestr2num"
   ]
  },
  {
   "cell_type": "code",
   "execution_count": 203,
   "metadata": {},
   "outputs": [
    {
     "name": "stdout",
     "output_type": "stream",
     "text": [
      "6.0\n"
     ]
    },
    {
     "data": {
      "text/plain": [
       "[(True, 6, 2697.77002),\n",
       " (True, 12, 2647.320068),\n",
       " (True, 15, 2701.73999),\n",
       " (True, 21, 2741.469971),\n",
       " (True, 23, 2694.590088),\n",
       " (True, 27, 2585.889893)]"
      ]
     },
     "execution_count": 203,
     "metadata": {},
     "output_type": "execute_result"
    }
   ],
   "source": [
    "\n",
    "def line_function(p1,p2,x):\n",
    "    k = 1.0*(p1[1]-p2[1])/ (p1[0]-p2[0]) #slope\n",
    "    return p1[1]+k*(x-p1[0])\n",
    "p1 = (1, 2)\n",
    "p2 = (2, 4)\n",
    "print (line_function(p1,p2,3))\n",
    "\n",
    "[item for item in all_small_extremes(list(df['Low'])[-30:]) if item [0] == True]\n",
    "\n",
    "        \n",
    "sorted(all_small_extremes(list(df['Low'])[-30:]), key =  lambda x: x[2])"
   ]
  },
  {
   "cell_type": "code",
   "execution_count": 172,
   "metadata": {},
   "outputs": [
    {
     "name": "stdout",
     "output_type": "stream",
     "text": [
      "2017-12-31\n"
     ]
    }
   ],
   "source": [
    "import datetime\n",
    "date_str = '12/31/2017' # The date - 29 Dec 2017\n",
    "format_str = '%m/%d/%Y' # The format\n",
    "datetime_obj = datetime.datetime.strptime(date_str, format_str).strftime(\"%Y-%m-%d\")\n",
    "print (datetime_obj)"
   ]
  },
  {
   "cell_type": "code",
   "execution_count": null,
   "metadata": {},
   "outputs": [],
   "source": []
  }
 ],
 "metadata": {
  "kernelspec": {
   "display_name": "Python 3",
   "language": "python",
   "name": "python3"
  },
  "language_info": {
   "codemirror_mode": {
    "name": "ipython",
    "version": 3
   },
   "file_extension": ".py",
   "mimetype": "text/x-python",
   "name": "python",
   "nbconvert_exporter": "python",
   "pygments_lexer": "ipython3",
   "version": "3.6.4"
  }
 },
 "nbformat": 4,
 "nbformat_minor": 2
}
